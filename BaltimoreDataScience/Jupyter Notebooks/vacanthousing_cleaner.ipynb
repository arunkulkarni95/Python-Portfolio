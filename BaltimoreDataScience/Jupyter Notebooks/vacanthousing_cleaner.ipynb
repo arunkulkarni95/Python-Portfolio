{
 "cells": [
  {
   "cell_type": "code",
   "execution_count": 2,
   "metadata": {},
   "outputs": [
    {
     "name": "stdout",
     "output_type": "stream",
     "text": [
      "    latitude  longitude\n",
      "0  39.276713 -76.663622\n",
      "1  39.290022 -76.636461\n",
      "2  39.314511 -76.649969\n",
      "3  39.325083 -76.601653\n",
      "4  39.358157 -76.581505\n"
     ]
    }
   ],
   "source": [
    "import pandas as pd\n",
    "\n",
    "df = pd.read_csv('Vacant_Buildings.csv')\n",
    "\n",
    "latlong= df['Location'].astype(str)\n",
    "\n",
    "latlong = latlong.map(lambda x: x.lstrip('(').rstrip(')'))\n",
    "\n",
    "latlong = latlong.str.split(expand=True)\n",
    "\n",
    "latlong.iloc[:,0] = latlong.iloc[:,0].map(lambda x: x.rstrip(','))\n",
    "\n",
    "latlong.iloc[:,:] = latlong.iloc[:,:].astype(float)\n",
    "\n",
    "latlong.columns = ['latitude','longitude']\n",
    "print(latlong.head())"
   ]
  },
  {
   "cell_type": "code",
   "execution_count": null,
   "metadata": {},
   "outputs": [],
   "source": []
  }
 ],
 "metadata": {
  "kernelspec": {
   "display_name": "Python 3",
   "language": "python",
   "name": "python3"
  },
  "language_info": {
   "codemirror_mode": {
    "name": "ipython",
    "version": 3
   },
   "file_extension": ".py",
   "mimetype": "text/x-python",
   "name": "python",
   "nbconvert_exporter": "python",
   "pygments_lexer": "ipython3",
   "version": "3.8.6"
  }
 },
 "nbformat": 4,
 "nbformat_minor": 4
}
