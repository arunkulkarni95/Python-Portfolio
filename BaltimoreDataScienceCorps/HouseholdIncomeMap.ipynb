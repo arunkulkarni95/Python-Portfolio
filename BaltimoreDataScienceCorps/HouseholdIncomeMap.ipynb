{
 "cells": [
  {
   "cell_type": "code",
   "execution_count": 1,
   "metadata": {},
   "outputs": [],
   "source": [
    "import pandas as pd\n",
    "import folium\n",
    "from folium import plugins\n",
    "\n",
    "df = pd.read_csv('MASTER_MERGED.csv')\n",
    "\n",
    "df = df.rename(columns={'Zip':'zipcode1','Neigh':'LABEL'})\n",
    "df['zipcode1'] = df['zipcode1'].astype(str)"
   ]
  },
  {
   "cell_type": "code",
   "execution_count": 2,
   "metadata": {},
   "outputs": [],
   "source": [
    "baltMap = folium.Map(location=[39.2904,-76.6122], tiles='OpenStreetMap', zoom_start=13)\n",
    "\n",
    "covid_choro = folium.Choropleth(geo_data='zipcode.geojson', geo_path='zipcode.geojson',\\\n",
    "                   data=df, columns=['zipcode1','TotalCOVIDCases'],\\\n",
    "                       key_on='feature.properties.zipcode1',fill_color='Blues',fill_opacity=0.8,\\\n",
    "                           legend_name='COVID-19 Total Reported Cases').add_to(baltMap)\n",
    "\n",
    "mhinc_choro = folium.Choropleth(geo_data='Maryland_Baltimore_City_Neighborhoods.geojson',\\\n",
    "                                geo_path='Maryland_Baltimore_City_Neighborhoods.geojson',data=df,\\\n",
    "                                    columns=['LABEL','MHINC'],\\\n",
    "                                        key_on='feature.properties.LABEL',fill_color='Reds',fill_opacity=0.8,\\\n",
    "                                            legend_name='Neighborhood Median Household Income').add_to(baltMap)\n",
    "\n",
    "    \n",
    "mhinc_choro.geojson.add_child(folium.features.GeoJsonTooltip(['NBRDESC','LABEL'],labels=False))\n",
    "covid_choro.geojson.add_child(folium.features.GeoJsonTooltip(['zipcode1','zipname']))\n",
    "\n",
    "folium.LayerControl().add_to(baltMap)\n",
    "baltMap.save('COVID_MHINC.html')"
   ]
  },
  {
   "cell_type": "code",
   "execution_count": null,
   "metadata": {},
   "outputs": [],
   "source": []
  }
 ],
 "metadata": {
  "kernelspec": {
   "display_name": "Python 3",
   "language": "python",
   "name": "python3"
  },
  "language_info": {
   "name": ""
  }
 },
 "nbformat": 4,
 "nbformat_minor": 4
}
