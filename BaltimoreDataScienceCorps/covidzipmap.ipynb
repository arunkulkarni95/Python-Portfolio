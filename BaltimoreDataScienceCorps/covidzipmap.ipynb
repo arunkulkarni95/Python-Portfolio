{
 "cells": [
  {
   "cell_type": "code",
   "execution_count": 1,
   "metadata": {},
   "outputs": [
    {
     "name": "stdout",
     "output_type": "stream",
     "text": [
      "    index zipcode1  LatestCases\n",
      "18    299    21224       2390.0\n",
      "12    290    21215       2049.0\n",
      "3     281    21206       1812.0\n",
      "16    297    21222       1810.0\n",
      "26    308    21234       1810.0\n",
      "4     282    21207       1584.0\n",
      "23    304    21229       1493.0\n",
      "22    303    21228       1451.0\n",
      "5     283    21208       1288.0\n",
      "15    293    21218       1164.0\n",
      "28    311    21237       1083.0\n",
      "24    305    21230       1072.0\n",
      "21    302    21227       1016.0\n",
      "10    288    21213        974.0\n",
      "29    312    21239        970.0\n",
      "19    300    21225        934.0\n",
      "27    310    21236        900.0\n",
      "13    291    21216        810.0\n",
      "14    292    21217        802.0\n",
      "1     277    21202        757.0\n",
      "9     287    21212        744.0\n",
      "17    298    21223        715.0\n",
      "6     284    21209        699.0\n",
      "2     280    21205        617.0\n",
      "11    289    21214        516.0\n",
      "25    306    21231        441.0\n",
      "0     276    21201        395.0\n",
      "8     286    21211        232.0\n",
      "20    301    21226        142.0\n",
      "7     285    21210         96.0\n",
      "30    317    21251          0.0\n",
      "31    320    21287          0.0\n"
     ]
    }
   ],
   "source": [
    "import pandas as pd\n",
    "import folium\n",
    "from folium import plugins\n",
    "\n",
    "df1 = pd.read_csv('MDCOVID19_MASTER_ZIP_CODE_CASES.csv')\n",
    "df2 = pd.read_csv('Vacant_Buildings.csv')\n",
    "\n",
    "#filter COVID by bmore zips\n",
    "zipsList = [21227,21207,21230,21251,21229,21237,21287,21231,21226,21206,21222,21225,21211,21208,\\\n",
    "            21205,21218,21234,21202,21201,21213,21210,21209,21216,21236,21217,21224,21215,21212,\\\n",
    "                21223,21214,21239,21228]\n",
    "\n",
    "df1 = df1[df1['ZIP_CODE'].isin(zipsList)]\n",
    "\n",
    "df1 = df1.fillna(0)\n",
    "\n",
    "zipsLatest = pd.DataFrame()\n",
    "\n",
    "zipsLatest['zipcode1'] = df1['ZIP_CODE'].astype(str)\n",
    "zipsLatest['LatestCases'] = df1.iloc[:,-1]\n",
    "zipsLatest = zipsLatest.reset_index()\n",
    "\n",
    "print(zipsLatest.sort_values(by='LatestCases', ascending=False))"
   ]
  },
  {
   "cell_type": "code",
   "execution_count": 2,
   "metadata": {},
   "outputs": [
    {
     "name": "stdout",
     "output_type": "stream",
     "text": [
      "    latitude  longitude\n",
      "0  39.276713 -76.663622\n",
      "1  39.290022 -76.636461\n",
      "2  39.314511 -76.649969\n",
      "3  39.325083 -76.601653\n",
      "4  39.358157 -76.581505\n"
     ]
    }
   ],
   "source": [
    "#filter vacant housing coords\n",
    "latlong= df2['Location'].astype(str)\n",
    "latlong = latlong.map(lambda x: x.lstrip('(').rstrip(')'))\n",
    "latlong = latlong.str.split(expand=True)\n",
    "latlong.iloc[:,0] = latlong.iloc[:,0].map(lambda x: x.rstrip(','))\n",
    "latlong.iloc[:,:] = latlong.iloc[:,:].astype(float)\n",
    "latlong.columns = ['latitude','longitude']\n",
    "print(latlong.head())"
   ]
  },
  {
   "cell_type": "code",
   "execution_count": 3,
   "metadata": {},
   "outputs": [],
   "source": [
    "#build map\n",
    "baltMap = folium.Map(location=[39.2904,-76.6122], tiles='OpenStreetMap', zoom_start=13)\n",
    "\n",
    "folium.GeoJson('zipcode.geojson').add_to(baltMap)\n",
    "\n",
    "choropleth = folium.Choropleth(geo_data='zipcode.geojson', geo_path='zipcode.geojson',\\\n",
    "                   data=zipsLatest, columns=['zipcode1','LatestCases'],\\\n",
    "                       key_on='feature.properties.zipcode1',fill_color='YlGn',fill_opacity=0.8,\\\n",
    "                           legend_name='COVID-19 Total Reported Cases').add_to(baltMap)\n",
    "\n",
    "for i,row in latlong.iterrows():\n",
    "    folium.CircleMarker((row.latitude,row.longitude), radius=3, weight=2, color='red', fill_color='red', fill_opacity=.5).add_to(baltMap)\n",
    "\n",
    "baltMap.add_child(plugins.HeatMap(data=latlong[['latitude', 'longitude']].to_numpy(), radius=25, blur=10))\n",
    "\n",
    "choropleth.geojson.add_child(folium.features.GeoJsonTooltip(['zipcode1','zipname'],labels=False))\n",
    "\n",
    "folium.LayerControl().add_to(baltMap)\n",
    "\n",
    "baltMap.save('covidByZipMap.html')"
   ]
  },
  {
   "cell_type": "code",
   "execution_count": null,
   "metadata": {},
   "outputs": [],
   "source": []
  }
 ],
 "metadata": {
  "kernelspec": {
   "display_name": "Python 3",
   "language": "python",
   "name": "python3"
  },
  "language_info": {
   "codemirror_mode": {
    "name": "ipython",
    "version": 3
   },
   "file_extension": ".py",
   "mimetype": "text/x-python",
   "name": "python",
   "nbconvert_exporter": "python",
   "pygments_lexer": "ipython3",
   "version": "3.8.6"
  }
 },
 "nbformat": 4,
 "nbformat_minor": 4
}
