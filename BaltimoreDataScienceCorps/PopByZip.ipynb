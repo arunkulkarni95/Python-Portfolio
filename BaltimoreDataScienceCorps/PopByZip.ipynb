{
 "cells": [
  {
   "cell_type": "code",
   "execution_count": 11,
   "metadata": {},
   "outputs": [
    {
     "name": "stdout",
     "output_type": "stream",
     "text": [
      "Index(['OBJECTID_1', 'ZCTA5CE10', 'FIRST_STAT', 'FIRST_GEOI', 'FIRST_CLAS',\n",
      "       'FIRST_MTFC', 'FIRST_FUNC', 'ZCTA5N', 'STATE', 'AREALAND', 'AREAWATR',\n",
      "       'POP100', 'HU100', 'NHW', 'NHB', 'NHAI', 'NHA', 'NHNH', 'NHO', 'NHT',\n",
      "       'HISP', 'PNHW', 'PNHB', 'PNHAI', 'PNHA', 'PNHNH', 'PNHO', 'PNHT',\n",
      "       'PHISP', 'POP65_', 'PCTPOP65_', 'MEDAGE', 'VACNS', 'PVACNS', 'PHOWN',\n",
      "       'PWOMORT', 'PRENT', 'PLT18SP', 'REPORT_2_P', 'REPORT_9_P'],\n",
      "      dtype='object')\n"
     ]
    }
   ],
   "source": [
    "import pandas as pd\n",
    "\n",
    "df = pd.read_csv('Maryland_Census_Data_-_ZIP_Code_Tabulation_Areas__ZCTAs_.csv')\n",
    "zipsList = [21227,21207,21230,21251,21229,21237,21287,21231,21226,21206,21222,21225,21211,21208,\\\n",
    "            21205,21218,21234,21202,21201,21213,21210,21209,21216,21236,21217,21224,21215,21212,\\\n",
    "                21223,21214,21239,21228]\n",
    "\n",
    "print(df.columns)"
   ]
  },
  {
   "cell_type": "code",
   "execution_count": 13,
   "metadata": {},
   "outputs": [
    {
     "name": "stdout",
     "output_type": "stream",
     "text": [
      "    Zip Code  Pop2010\n",
      "0      21201    16972\n",
      "1      21202    22832\n",
      "2      21205    16146\n",
      "3      21206    50846\n",
      "4      21207    48133\n",
      "5      21208    33917\n",
      "6      21209    26465\n",
      "7      21210    14292\n",
      "8      21211    17351\n",
      "9      21212    32322\n",
      "10     21213    32733\n",
      "11     21214    20564\n",
      "12     21215    60161\n",
      "13     21216    32071\n",
      "14     21217    37111\n",
      "15     21218    49796\n",
      "16     21222    55786\n",
      "17     21223    26366\n",
      "18     21224    49134\n",
      "19     21225    33545\n",
      "20     21226     7561\n",
      "21     21227    33534\n",
      "22     21228    47577\n",
      "23     21229    45213\n",
      "24     21230    33568\n",
      "25     21231    15748\n",
      "26     21234    69752\n",
      "27     21236    38474\n",
      "28     21237    30059\n",
      "29     21239    28793\n",
      "30     21251      934\n"
     ]
    }
   ],
   "source": [
    "df = df.rename(columns={'ZCTA5N':'Zip Code','POP100':'Pop2010'})\n",
    "df = df[['Zip Code','Pop2010']]\n",
    "df = df[df['Zip Code'].isin(zipsList)]\n",
    "df.reset_index(drop=True,inplace=True)\n",
    "print(df)"
   ]
  },
  {
   "cell_type": "code",
   "execution_count": 15,
   "metadata": {},
   "outputs": [
    {
     "name": "stdout",
     "output_type": "stream",
     "text": [
      "    Zip Code  Pop2010\n",
      "0      21201    16972\n",
      "1      21202    22832\n",
      "2      21205    16146\n",
      "3      21206    50846\n",
      "4      21207    48133\n",
      "5      21208    33917\n",
      "6      21209    26465\n",
      "7      21210    14292\n",
      "8      21211    17351\n",
      "9      21212    32322\n",
      "10     21213    32733\n",
      "11     21214    20564\n",
      "12     21215    60161\n",
      "13     21216    32071\n",
      "14     21217    37111\n",
      "15     21218    49796\n",
      "16     21222    55786\n",
      "17     21223    26366\n",
      "18     21224    49134\n",
      "19     21225    33545\n",
      "20     21226     7561\n",
      "21     21227    33534\n",
      "22     21228    47577\n",
      "23     21229    45213\n",
      "24     21230    33568\n",
      "25     21231    15748\n",
      "26     21234    69752\n",
      "27     21236    38474\n",
      "28     21237    30059\n",
      "29     21239    28793\n",
      "30     21251      934\n",
      "31     21287        0\n"
     ]
    }
   ],
   "source": [
    "df = df.append({'Zip Code':21287,'Pop2010':0},ignore_index=True)\n",
    "df['Zip Code'] = df['Zip Code'].astype(int)\n",
    "df['Pop2010'] = df['Pop2010'].astype(int)\n",
    "print(df)"
   ]
  },
  {
   "cell_type": "code",
   "execution_count": 16,
   "metadata": {},
   "outputs": [],
   "source": [
    "df.to_csv('PopsByZip.csv')"
   ]
  },
  {
   "cell_type": "code",
   "execution_count": null,
   "metadata": {},
   "outputs": [],
   "source": []
  }
 ],
 "metadata": {
  "kernelspec": {
   "display_name": "Python 3",
   "language": "python",
   "name": "python3"
  },
  "language_info": {
   "codemirror_mode": {
    "name": "ipython",
    "version": 3
   },
   "file_extension": ".py",
   "mimetype": "text/x-python",
   "name": "python",
   "nbconvert_exporter": "python",
   "pygments_lexer": "ipython3",
   "version": "3.8.6"
  }
 },
 "nbformat": 4,
 "nbformat_minor": 4
}
