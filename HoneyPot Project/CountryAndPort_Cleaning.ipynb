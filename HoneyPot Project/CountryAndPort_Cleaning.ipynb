{
 "cells": [
  {
   "cell_type": "code",
   "execution_count": 2,
   "metadata": {},
   "outputs": [
    {
     "name": "stdout",
     "output_type": "stream",
     "text": [
      "         country  src_port  dest_port  count\n",
      "0  United States     55002         53      4\n",
      "1  United States     51231         53      3\n",
      "2  United States     19638         80      1\n",
      "3  United States     58917         53      2\n",
      "4  United States     61042         53      2\n"
     ]
    }
   ],
   "source": [
    "# -*- coding: utf-8 -*-\n",
    "\"\"\"\n",
    "Created on Mon Nov 16 17:05:12 2020\n",
    "\n",
    "@author: Arun\n",
    "\"\"\"\n",
    "\n",
    "import pandas as pd\n",
    "\n",
    "#import raw data\n",
    "#reorganize/rename columns\n",
    "df = pd.read_csv('Attacks by country, time, and destination port.csv')\n",
    "\n",
    "df = df.rename(columns={'Country':'country','src_port: Descending':'src_port','dest_port: Descending':'dest_port'\\\n",
    "                        ,'Count':'count'})\n",
    "df = df[['country','src_port','dest_port','count']]\n",
    "print(df.head())"
   ]
  },
  {
   "cell_type": "code",
   "execution_count": 3,
   "metadata": {},
   "outputs": [],
   "source": [
    "#break-up by country\n",
    "usa = df[df['country'] == 'United States']\n",
    "vietnam = df[df['country'] == 'Vietnam']\n",
    "china = df[df['country'] == 'China']\n",
    "india = df[df['country'] == 'India']\n",
    "russia = df[df['country'] == 'Russia']\n",
    "canada = df[df['country'] == 'Canada']\n",
    "philippines = df[df['country'] == 'Philippines']\n",
    "colombia = df[df['country'] == 'Colombia']\n",
    "brazil = df[df['country'] == 'Brazil']\n",
    "taiwan = df[df['country'] == 'Taiwan']"
   ]
  },
  {
   "cell_type": "code",
   "execution_count": 4,
   "metadata": {},
   "outputs": [],
   "source": [
    "#populate list of dataframes\n",
    "countries = []\n",
    "countries.append(usa)\n",
    "countries.append(vietnam)\n",
    "countries.append(china)\n",
    "countries.append(india)\n",
    "countries.append(russia)\n",
    "countries.append(canada)\n",
    "countries.append(philippines)\n",
    "countries.append(colombia)\n",
    "countries.append(brazil)\n",
    "countries.append(taiwan)\n",
    "\n",
    "final = pd.DataFrame()"
   ]
  },
  {
   "cell_type": "code",
   "execution_count": 5,
   "metadata": {},
   "outputs": [],
   "source": [
    "#sort by source port, reset index\n",
    "for df in countries:\n",
    "    df.reset_index(drop=True,inplace=True)\n",
    "    df.sort_values(by=['src_port'])    \n",
    "    df = df.sort_values(by='src_port')\n",
    "    df.reset_index(drop=True,inplace=True)\n",
    "    final = final.append(df)\n",
    "\n",
    "final.reset_index(drop=True,inplace=True)\n",
    "us_and_russia = final[(final['country'] == 'United States') | (final['country'] == 'Russia')]"
   ]
  },
  {
   "cell_type": "code",
   "execution_count": 6,
   "metadata": {},
   "outputs": [
    {
     "name": "stdout",
     "output_type": "stream",
     "text": [
      "          country  src_port  dest_port  count\n",
      "0   United States        80      18935      1\n",
      "1   United States      3065         80      6\n",
      "2   United States     18934         80      1\n",
      "3   United States     19638         80      1\n",
      "4   United States     51231         53      3\n",
      "..            ...       ...        ...    ...\n",
      "70         Taiwan     36663         23      3\n",
      "71         Taiwan     40757         23      3\n",
      "72         Taiwan     41203         23      3\n",
      "73         Taiwan     44097         23      3\n",
      "74         Taiwan     60973         23      3\n",
      "\n",
      "[75 rows x 4 columns]\n",
      "          country  src_port  dest_port  count\n",
      "0   United States        80      18935      1\n",
      "1   United States      3065         80      6\n",
      "2   United States     18934         80      1\n",
      "3   United States     19638         80      1\n",
      "4   United States     51231         53      3\n",
      "5   United States     55002         53      4\n",
      "6   United States     57112         53      1\n",
      "7   United States     58181         53      2\n",
      "8   United States     58917         53      2\n",
      "9   United States     58984         53      1\n",
      "10  United States     61042         53      2\n",
      "11  United States     62661         53      2\n",
      "12  United States     64191         53      1\n",
      "33         Russia     45044       5501      4\n",
      "34         Russia     49904       3389      4\n",
      "35         Russia     54726       5500      5\n",
      "36         Russia     65530       3423      1\n",
      "37         Russia     65530       3424      1\n",
      "38         Russia     65530       3426      1\n",
      "39         Russia     65530       3427      1\n",
      "40         Russia     65530       3430      1\n",
      "41         Russia     65530       3421      1\n",
      "42         Russia     65530       3422      1\n",
      "43         Russia     65530       3425      1\n",
      "44         Russia     65530       3428      1\n",
      "45         Russia     65530       3429      1\n"
     ]
    }
   ],
   "source": [
    "#export new dataframes\n",
    "final.to_csv('all_countries.csv')\n",
    "us_and_russia.to_csv('us_and_russia.csv')\n",
    "print(final)\n",
    "print(us_and_russia)"
   ]
  },
  {
   "cell_type": "code",
   "execution_count": null,
   "metadata": {},
   "outputs": [],
   "source": []
  }
 ],
 "metadata": {
  "kernelspec": {
   "display_name": "Python 3",
   "language": "python",
   "name": "python3"
  },
  "language_info": {
   "codemirror_mode": {
    "name": "ipython",
    "version": 3
   },
   "file_extension": ".py",
   "mimetype": "text/x-python",
   "name": "python",
   "nbconvert_exporter": "python",
   "pygments_lexer": "ipython3",
   "version": "3.8.3"
  }
 },
 "nbformat": 4,
 "nbformat_minor": 4
}
